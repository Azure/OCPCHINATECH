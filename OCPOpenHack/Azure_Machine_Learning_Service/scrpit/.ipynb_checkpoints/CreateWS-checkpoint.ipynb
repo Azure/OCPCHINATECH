{
 "cells": [
  {
   "cell_type": "code",
   "execution_count": 1,
   "metadata": {},
   "outputs": [],
   "source": [
    "import azureml.core"
   ]
  },
  {
   "cell_type": "code",
   "execution_count": 2,
   "metadata": {},
   "outputs": [
    {
     "name": "stdout",
     "output_type": "stream",
     "text": [
      "1.0.39\n"
     ]
    }
   ],
   "source": [
    "print(azureml.core.VERSION)"
   ]
  },
  {
   "cell_type": "code",
   "execution_count": 7,
   "metadata": {},
   "outputs": [
    {
     "name": "stdout",
     "output_type": "stream",
     "text": [
      "Deploying AppInsights with name litdemowinsights0507b554.\n",
      "Deployed AppInsights with name litdemowinsights0507b554.\n",
      "Deploying KeyVault with name litdemowkeyvaultd53a1d59.\n",
      "Deploying StorageAccount with name litdemowstorage5a07b8878.\n",
      "Deployed KeyVault with name litdemowkeyvaultd53a1d59.\n",
      "Deployed StorageAccount with name litdemowstorage5a07b8878.\n",
      "Deploying Workspace with name LITDEMOWS.\n",
      "Deployed Workspace with name LITDEMOWS.\n"
     ]
    }
   ],
   "source": [
    "from azureml.core import Workspace\n",
    "ws = Workspace.create(name='LITDEMOWS',\n",
    "                      subscription_id='fd9705f0-86f3-4598-81ab-88517a1b1e0b',\n",
    "                      resource_group='AMLRG',\n",
    "                      create_resource_group=False,\n",
    "                      location='eastus' \n",
    "                     )"
   ]
  },
  {
   "cell_type": "code",
   "execution_count": 9,
   "metadata": {},
   "outputs": [
    {
     "data": {
      "text/plain": [
       "{'id': '/subscriptions/fd9705f0-86f3-4598-81ab-88517a1b1e0b/resourceGroups/AMLRG/providers/Microsoft.MachineLearningServices/workspaces/LITDEMOWS',\n",
       " 'name': 'LITDEMOWS',\n",
       " 'location': 'eastus',\n",
       " 'type': 'Microsoft.MachineLearningServices/workspaces',\n",
       " 'workspaceid': 'bbe4f53a-a18b-4509-a51c-119160cc665c',\n",
       " 'description': '',\n",
       " 'friendlyName': 'LITDEMOWS',\n",
       " 'creationTime': '2019-05-27T08:32:45.4147461+00:00',\n",
       " 'keyVault': '/subscriptions/fd9705f0-86f3-4598-81ab-88517a1b1e0b/resourcegroups/amlrg/providers/microsoft.keyvault/vaults/litdemowkeyvaultd53a1d59',\n",
       " 'applicationInsights': '/subscriptions/fd9705f0-86f3-4598-81ab-88517a1b1e0b/resourcegroups/amlrg/providers/microsoft.insights/components/litdemowinsights0507b554',\n",
       " 'identityPrincipalId': '63fc6b29-2e13-4d79-bddf-c0734a790243',\n",
       " 'identityTenantId': '72f988bf-86f1-41af-91ab-2d7cd011db47',\n",
       " 'identityType': 'SystemAssigned',\n",
       " 'storageAccount': '/subscriptions/fd9705f0-86f3-4598-81ab-88517a1b1e0b/resourcegroups/amlrg/providers/microsoft.storage/storageaccounts/litdemowstorage5a07b8878'}"
      ]
     },
     "execution_count": 9,
     "metadata": {},
     "output_type": "execute_result"
    }
   ],
   "source": [
    "ws.get_details()"
   ]
  },
  {
   "cell_type": "code",
   "execution_count": null,
   "metadata": {},
   "outputs": [],
   "source": []
  }
 ],
 "metadata": {
  "kernelspec": {
   "display_name": "Python 3",
   "language": "python",
   "name": "python3"
  },
  "language_info": {
   "codemirror_mode": {
    "name": "ipython",
    "version": 3
   },
   "file_extension": ".py",
   "mimetype": "text/x-python",
   "name": "python",
   "nbconvert_exporter": "python",
   "pygments_lexer": "ipython3",
   "version": "3.6.5"
  }
 },
 "nbformat": 4,
 "nbformat_minor": 2
}
