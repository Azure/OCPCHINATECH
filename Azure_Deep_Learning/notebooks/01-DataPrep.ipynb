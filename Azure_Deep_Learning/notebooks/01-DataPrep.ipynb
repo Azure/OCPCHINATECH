{
 "cells": [
  {
   "cell_type": "markdown",
   "metadata": {},
   "source": [
    "# Image Pre-Processing\n",
    "\n",
    "Use this notebook to download, explore, and prepare the image data that you will work with in subsequent challenges.\n",
    "\n",
    "## Download and Extract the Images\n",
    "The images are provided in a zipped archive. Run the following code cell to download and extract this archive.\n",
    "\n",
    "> Note: You can run OS commands in a notebook by prefixing them with a `!` character. This works well for simple tasks, but for more complex OS operations you should use a terminal session."
   ]
  },
  {
   "cell_type": "code",
   "execution_count": null,
   "metadata": {},
   "outputs": [],
   "source": [
    "# Download and extract image files\n",
    "! curl -O https://computervisionhack.blob.core.windows.net/challengefiles/gear_images.zip\n",
    "! unzip -o gear_images.zip"
   ]
  },
  {
   "cell_type": "markdown",
   "metadata": {},
   "source": [
    "## Explore the Images\n",
    "Run the following cell to iterate through subfolders in the extracted **gear_images** folder, and display the first image in each subfolder. Each subfolder represents a category, or *class*, of image."
   ]
  },
  {
   "cell_type": "code",
   "execution_count": null,
   "metadata": {},
   "outputs": [],
   "source": [
    "import os\n",
    "import shutil\n",
    "import numpy as np\n",
    "import matplotlib.pyplot as plt\n",
    "from PIL import Image\n",
    "\n",
    "# Required magic to display matplotlib plots in notebooks\n",
    "%matplotlib inline\n",
    "\n",
    "# This is where we extracted the images\n",
    "imgdir = 'gear_images'\n",
    "\n",
    "# Set up a figure of an appropriate size\n",
    "fig = plt.figure(figsize=(12, 16))\n",
    "\n",
    "# loop through the subfolders\n",
    "dir_num = 0\n",
    "for root, folders, filenames in os.walk(imgdir):\n",
    "    for folder in folders:\n",
    "        # Load the first image file using the PIL library\n",
    "        file = os.listdir(os.path.join(root,folder))[0]\n",
    "        imgFile = os.path.join(root,folder, file)\n",
    "        img = Image.open(imgFile)\n",
    "        # Add the image to the figure (which will have 4 rows and enough columns to show a file from each folder)\n",
    "        a=fig.add_subplot(4,np.ceil(len(folders)/4),dir_num + 1)\n",
    "        imgplot = plt.imshow(img)\n",
    "        # Add a caption with the foilder name\n",
    "        a.set_title(folder)\n",
    "        dir_num = dir_num + 1\n"
   ]
  },
  {
   "cell_type": "markdown",
   "metadata": {},
   "source": [
    "Note that each folder contains images of a specific product type.\n",
    "\n",
    "> Note: Examine the code above carefully and make sure you understand what it is doing. You'll be using similar code to process and display images throughout the rest of this hack.\n",
    "\n",
    "## Standardize the Images\n",
    "The images are a mix of formats (JPGs and PNGs), and vary in size and shape. Some machine learning techniques for computer vision work best when the image data is a consistent format and size, so you must prepare the data accordingly.\n",
    "\n",
    "Run the code in the following cell to standarize the images so that they are all in JPG format, and they are all 128x128 pixels in size.\n",
    "\n",
    "> Note: Images are essentially multidimensional arrays of pixel values. In this case, the images are represented as 128x128x3 arrays that encapsulate the width, height, and red, green, and blue *channel* pixel values."
   ]
  },
  {
   "cell_type": "code",
   "execution_count": null,
   "metadata": {},
   "outputs": [],
   "source": [
    "import os\n",
    "import shutil\n",
    "import numpy as np\n",
    "import matplotlib.pyplot as plt\n",
    "from PIL import Image\n",
    "\n",
    "# Helper function to resize image\n",
    "def resize_image(img, size): \n",
    "    from PIL import Image, ImageOps \n",
    "    \n",
    "    # resize the image so the longest dimension matches our target size\n",
    "    img.thumbnail(size, Image.ANTIALIAS)\n",
    "    \n",
    "    # Create a new square white background image\n",
    "    newimg = Image.new(\"RGB\", size, (255, 255, 255))\n",
    "    \n",
    "    # Paste the resized image into the center of the square background\n",
    "    if np.array(img).shape[2] == 4:\n",
    "        # If the source is in RGBA format, use a mask to eliminate the transparency\n",
    "        newimg.paste(img, (int((size[0] - img.size[0]) / 2), int((size[1] - img.size[1]) / 2)), mask=img.split()[3])\n",
    "    else:\n",
    "        newimg.paste(img, (int((size[0] - img.size[0]) / 2), int((size[1] - img.size[1]) / 2)))\n",
    "  \n",
    "    # return the resized image\n",
    "    return newimg\n",
    "\n",
    "\n",
    "# Create resized copies of all of the source images\n",
    "size = (128,128)\n",
    "\n",
    "indir = 'gear_images'\n",
    "outdir = 'resized_images'\n",
    "\n",
    "# Create the output folder if it doesn't already exist\n",
    "if os.path.exists(outdir):\n",
    "    shutil.rmtree(outdir)\n",
    "\n",
    "# Loop through each subfolder in the input dir\n",
    "for root, dirs, filenames in os.walk(indir):\n",
    "    for d in dirs:\n",
    "        print('processing folder ' + d)\n",
    "        # Create a matching subfolder in the output dir\n",
    "        saveFolder = os.path.join(outdir,d)\n",
    "        if not os.path.exists(saveFolder):\n",
    "            os.makedirs(saveFolder)\n",
    "        # Loop through the files in the subfolder\n",
    "        files = os.listdir(os.path.join(root,d))\n",
    "        for f in files:\n",
    "            # Open the file\n",
    "            imgFile = os.path.join(root,d, f)\n",
    "            print(\"reading \" + imgFile)\n",
    "            img = Image.open(imgFile)\n",
    "            # Create a resized version and save it\n",
    "            proc_img = resize_image(img, size)\n",
    "            saveAs = os.path.join(saveFolder, 'resized_' + f)\n",
    "            print(\"writing \" + saveAs)\n",
    "            proc_img.save(saveAs)\n",
    "            "
   ]
  },
  {
   "cell_type": "markdown",
   "metadata": {},
   "source": [
    "## Compare the Original and Resized Images\n",
    "NRun the following code cell to view the original and resized version of the first image in each subfolder. Note that by default, **matplotlib** plots include axes that indicate the pixel dimensions of the image. The resized images should all be 128x128 pixels in size."
   ]
  },
  {
   "cell_type": "code",
   "execution_count": null,
   "metadata": {
    "scrolled": false
   },
   "outputs": [],
   "source": [
    "# Create a new figure\n",
    "fig = plt.figure(figsize=(10, 40))\n",
    "\n",
    "# loop through the subfolders in the input directory\n",
    "img_num = 1\n",
    "for root, folders, filenames in os.walk(indir):\n",
    "    for folder in folders:\n",
    "        # Get the first image in the subfolder and add it to a plot that has two columns and row for each folder\n",
    "        file = os.listdir(os.path.join(root,folder))[0]\n",
    "        imgFile1 = os.path.join(indir,folder, file)\n",
    "        img1 = Image.open(imgFile1)\n",
    "        a=fig.add_subplot(len(folders), 2, img_num)\n",
    "        imgplot = plt.imshow(img1)\n",
    "        a.set_title(folder)\n",
    "        # The next image is the resized counterpart - load and plot it\n",
    "        img_num = img_num + 1\n",
    "        imgFile2 = os.path.join(outdir,folder, 'resized_' + file)\n",
    "        img2 = Image.open(imgFile2)\n",
    "        b=fig.add_subplot(len(folders), 2, img_num)\n",
    "        imgplot = plt.imshow(img2)\n",
    "        b.set_title('resized ' + folder)\n",
    "        img_num = img_num + 1"
   ]
  },
  {
   "cell_type": "markdown",
   "metadata": {},
   "source": [
    "**Note**: Data pre-processing is often the most time-consuming part of a machine learning project. When working with image data, there are many ways in which the data can be enhanced for use in machine learning, for example by scaling the images to be a consistent size and shape,  adjusting contrast to correct for over/under-exposure, or cropping to include only the most relevant visual elements. Most modern machine learning frameworks include functions to perform these tasks, but a professional data scientist working in computer vision scenarios will benefit from having knowledge of how to work with images using common Python libraries."
   ]
  }
 ],
 "metadata": {
  "kernelspec": {
   "display_name": "Python 3.5",
   "language": "python",
   "name": "python3"
  },
  "language_info": {
   "codemirror_mode": {
    "name": "ipython",
    "version": 3
   },
   "file_extension": ".py",
   "mimetype": "text/x-python",
   "name": "python",
   "nbconvert_exporter": "python",
   "pygments_lexer": "ipython3",
   "version": "3.5.5"
  }
 },
 "nbformat": 4,
 "nbformat_minor": 2
}
